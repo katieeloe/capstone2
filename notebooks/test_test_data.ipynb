{
 "cells": [
  {
   "cell_type": "code",
   "execution_count": 18,
   "metadata": {},
   "outputs": [],
   "source": [
    "import pandas as pd\n",
    "import numpy as np\n",
    "import json\n",
    "import matplotlib.pyplot as plt\n",
    "from sklearn.feature_extraction.text import TfidfVectorizer\n",
    "from sklearn.naive_bayes import MultinomialNB\n",
    "from sklearn import preprocessing"
   ]
  },
  {
   "cell_type": "code",
   "execution_count": 19,
   "metadata": {},
   "outputs": [],
   "source": [
    "recipe_file = open('/home/katie/01-OneDrive/01_galvanize_dsi/capstones/02-capstone_2/capstone2/data/recipes_raw _test_data.txt', 'r')"
   ]
  },
  {
   "cell_type": "code",
   "execution_count": 20,
   "metadata": {},
   "outputs": [],
   "source": [
    "full_recipes = recipe_file.read()"
   ]
  },
  {
   "cell_type": "code",
   "execution_count": 21,
   "metadata": {},
   "outputs": [],
   "source": [
    "full_recipes2 = full_recipes.replace('}{\"vegetarian' , '}|||{\"vegetarian')"
   ]
  },
  {
   "cell_type": "code",
   "execution_count": 22,
   "metadata": {},
   "outputs": [],
   "source": [
    "full_recipes_lst = full_recipes2.split(\"|||\")"
   ]
  },
  {
   "cell_type": "code",
   "execution_count": 23,
   "metadata": {},
   "outputs": [],
   "source": [
    "full_recipes_json = []\n",
    "for recipe in full_recipes_lst:\n",
    "   full_recipes_json.append(json.loads(recipe))"
   ]
  },
  {
   "cell_type": "code",
   "execution_count": 24,
   "metadata": {},
   "outputs": [
    {
     "data": {
      "text/plain": [
       "dict_keys(['vegetarian', 'vegan', 'glutenFree', 'dairyFree', 'veryHealthy', 'cheap', 'veryPopular', 'sustainable', 'weightWatcherSmartPoints', 'gaps', 'lowFodmap', 'ketogenic', 'whole30', 'sourceUrl', 'spoonacularSourceUrl', 'aggregateLikes', 'spoonacularScore', 'healthScore', 'creditText', 'sourceName', 'pricePerServing', 'extendedIngredients', 'id', 'title', 'readyInMinutes', 'servings', 'image', 'imageType', 'cuisines', 'dishTypes', 'diets', 'occasions', 'winePairing', 'instructions', 'analyzedInstructions', 'creditsText'])"
      ]
     },
     "execution_count": 24,
     "metadata": {},
     "output_type": "execute_result"
    }
   ],
   "source": [
    "full_recipes_json[0].keys()"
   ]
  },
  {
   "cell_type": "code",
   "execution_count": 25,
   "metadata": {},
   "outputs": [],
   "source": [
    "cuisines = []\n",
    "for recipe in full_recipes_json:\n",
    "    cuisines.append(recipe['cuisines'])"
   ]
  },
  {
   "cell_type": "code",
   "execution_count": 26,
   "metadata": {},
   "outputs": [
    {
     "data": {
      "text/plain": [
       "[['chines', 'asian'],\n",
       " ['chines', 'asian'],\n",
       " ['chines', 'asian'],\n",
       " ['chines', 'asian'],\n",
       " ['chines', 'asian'],\n",
       " ['chines', 'asian'],\n",
       " ['chines', 'asian'],\n",
       " ['chines', 'asian'],\n",
       " ['chines', 'asian'],\n",
       " ['chines', 'asian'],\n",
       " ['japanes', 'asian'],\n",
       " ['japanes', 'asian'],\n",
       " ['japanes', 'asian'],\n",
       " ['japanes', 'asian'],\n",
       " ['japanes', 'asian'],\n",
       " ['japanes', 'asian'],\n",
       " ['japanes', 'asian'],\n",
       " ['japanes', 'asian'],\n",
       " ['japanes', 'asian'],\n",
       " ['japanes', 'asian'],\n",
       " ['asian', 'korean'],\n",
       " ['asian', 'korean'],\n",
       " ['asian', 'korean'],\n",
       " ['asian', 'korean'],\n",
       " ['asian', 'korean'],\n",
       " ['asian', 'korean'],\n",
       " ['asian', 'korean'],\n",
       " ['asian', 'korean'],\n",
       " ['asian', 'korean'],\n",
       " ['asian', 'korean'],\n",
       " ['asian', 'vietnames'],\n",
       " ['asian', 'vietnames'],\n",
       " ['asian', 'vietnames'],\n",
       " ['asian', 'vietnames'],\n",
       " ['asian', 'vietnames'],\n",
       " ['asian', 'vietnames'],\n",
       " ['asian', 'vietnames'],\n",
       " ['asian', 'vietnames'],\n",
       " ['asian', 'vietnames'],\n",
       " ['asian', 'vietnames'],\n",
       " ['asian', 'thai'],\n",
       " ['asian', 'thai'],\n",
       " ['asian', 'thai'],\n",
       " ['asian', 'thai'],\n",
       " ['asian', 'thai'],\n",
       " ['asian', 'thai'],\n",
       " ['asian', 'thai'],\n",
       " ['asian', 'thai'],\n",
       " ['asian', 'thai'],\n",
       " ['asian', 'thai'],\n",
       " ['asian', 'indian'],\n",
       " ['asian', 'indian'],\n",
       " ['asian', 'indian'],\n",
       " ['asian', 'indian'],\n",
       " ['asian', 'indian'],\n",
       " ['asian', 'indian'],\n",
       " ['asian', 'indian'],\n",
       " ['asian', 'indian'],\n",
       " ['asian', 'indian'],\n",
       " ['asian', 'indian'],\n",
       " ['european', 'english', 'british', 'scottish'],\n",
       " ['european', 'english', 'british', 'scottish'],\n",
       " ['european', 'english', 'british', 'scottish'],\n",
       " ['european', 'english', 'british', 'scottish'],\n",
       " ['european', 'english', 'british', 'scottish'],\n",
       " ['european', 'english', 'british', 'scottish'],\n",
       " ['european', 'english', 'british', 'scottish'],\n",
       " ['european', 'english', 'british', 'scottish'],\n",
       " ['european', 'english', 'british', 'scottish'],\n",
       " ['european', 'english', 'british', 'scottish'],\n",
       " ['european', 'irish'],\n",
       " ['european', 'irish'],\n",
       " ['european', 'irish'],\n",
       " ['european', 'irish'],\n",
       " ['european', 'irish'],\n",
       " ['european', 'irish'],\n",
       " ['european', 'irish'],\n",
       " ['european', 'irish'],\n",
       " ['european', 'irish'],\n",
       " ['european', 'irish'],\n",
       " ['mediterranean', 'european', 'french'],\n",
       " ['mediterranean', 'european', 'french'],\n",
       " ['mediterranean', 'european', 'french'],\n",
       " ['mediterranean', 'european', 'french'],\n",
       " ['mediterranean', 'european', 'french'],\n",
       " ['mediterranean', 'european', 'french'],\n",
       " ['mediterranean', 'european', 'french'],\n",
       " ['mediterranean', 'european', 'french'],\n",
       " ['mediterranean', 'european', 'french'],\n",
       " ['mediterranean', 'european', 'french'],\n",
       " ['mediterranean', 'european', 'italian'],\n",
       " ['mediterranean', 'european', 'italian'],\n",
       " ['mediterranean', 'european', 'italian'],\n",
       " ['mediterranean', 'european', 'italian'],\n",
       " ['mediterranean', 'european', 'italian'],\n",
       " ['mediterranean', 'european', 'italian'],\n",
       " ['mediterranean', 'european', 'italian'],\n",
       " ['mediterranean', 'european', 'italian'],\n",
       " ['mediterranean', 'european', 'italian'],\n",
       " ['mediterranean', 'european', 'italian'],\n",
       " ['mexican'],\n",
       " ['mexican'],\n",
       " ['mexican'],\n",
       " ['mexican'],\n",
       " ['mexican'],\n",
       " ['mexican'],\n",
       " ['mexican'],\n",
       " ['mexican'],\n",
       " ['mexican'],\n",
       " ['mexican'],\n",
       " ['spanish', 'european'],\n",
       " ['spanish', 'european'],\n",
       " ['spanish', 'european'],\n",
       " ['spanish', 'european'],\n",
       " ['spanish', 'european'],\n",
       " ['spanish', 'european'],\n",
       " ['spanish', 'european'],\n",
       " ['spanish', 'european'],\n",
       " ['spanish', 'european'],\n",
       " ['spanish', 'european'],\n",
       " ['middl eastern'],\n",
       " ['middl eastern'],\n",
       " ['middl eastern'],\n",
       " ['middl eastern'],\n",
       " ['middl eastern'],\n",
       " ['middl eastern'],\n",
       " ['middl eastern'],\n",
       " ['middl eastern'],\n",
       " ['middl eastern'],\n",
       " ['middl eastern'],\n",
       " ['jewish'],\n",
       " ['jewish'],\n",
       " ['jewish'],\n",
       " ['jewish'],\n",
       " ['jewish'],\n",
       " ['jewish'],\n",
       " ['jewish'],\n",
       " ['jewish'],\n",
       " ['jewish'],\n",
       " ['jewish'],\n",
       " ['american'],\n",
       " ['american'],\n",
       " ['american'],\n",
       " ['american'],\n",
       " ['american'],\n",
       " ['american'],\n",
       " ['american'],\n",
       " ['american'],\n",
       " ['american'],\n",
       " ['american'],\n",
       " ['cajun', 'creol'],\n",
       " ['cajun', 'creol'],\n",
       " ['cajun', 'creol'],\n",
       " ['cajun', 'creol'],\n",
       " ['cajun', 'creol'],\n",
       " ['cajun', 'creol'],\n",
       " ['cajun', 'creol'],\n",
       " ['cajun', 'creol'],\n",
       " ['cajun', 'creol'],\n",
       " ['cajun', 'creol'],\n",
       " ['southern'],\n",
       " ['southern'],\n",
       " ['southern'],\n",
       " ['southern'],\n",
       " ['southern'],\n",
       " ['southern'],\n",
       " ['southern'],\n",
       " ['southern'],\n",
       " ['southern'],\n",
       " ['southern'],\n",
       " ['mediterranean', 'greek', 'european'],\n",
       " ['mediterranean', 'greek', 'european'],\n",
       " ['mediterranean', 'greek', 'european'],\n",
       " ['mediterranean', 'greek', 'european'],\n",
       " ['mediterranean', 'greek', 'european'],\n",
       " ['mediterranean', 'greek', 'european'],\n",
       " ['mediterranean', 'greek', 'european'],\n",
       " ['mediterranean', 'greek', 'european'],\n",
       " ['mediterranean', 'greek', 'european'],\n",
       " ['mediterranean', 'greek', 'european'],\n",
       " ['german', 'european'],\n",
       " ['german', 'european'],\n",
       " ['german', 'european'],\n",
       " ['german', 'european'],\n",
       " ['german', 'european'],\n",
       " ['german', 'european'],\n",
       " ['german', 'european'],\n",
       " ['german', 'european'],\n",
       " ['german', 'european'],\n",
       " ['german', 'european'],\n",
       " ['scandinavian', 'european', 'nordic'],\n",
       " ['scandinavian', 'european', 'nordic'],\n",
       " ['scandinavian', 'european', 'nordic'],\n",
       " ['scandinavian', 'european', 'nordic'],\n",
       " ['scandinavian', 'european', 'nordic'],\n",
       " ['scandinavian', 'european', 'nordic'],\n",
       " ['scandinavian', 'european', 'nordic'],\n",
       " ['scandinavian', 'european', 'nordic'],\n",
       " ['scandinavian', 'european', 'nordic'],\n",
       " ['scandinavian', 'european', 'nordic'],\n",
       " ['european', 'eastern european'],\n",
       " ['european', 'eastern european'],\n",
       " ['european', 'eastern european'],\n",
       " ['european', 'eastern european'],\n",
       " ['european', 'eastern european'],\n",
       " ['european', 'eastern european'],\n",
       " ['european', 'eastern european'],\n",
       " ['european', 'eastern european'],\n",
       " ['european', 'eastern european'],\n",
       " ['european', 'eastern european'],\n",
       " ['caribbean', 'central american'],\n",
       " ['caribbean', 'central american'],\n",
       " ['caribbean', 'central american'],\n",
       " ['caribbean', 'central american'],\n",
       " ['caribbean', 'central american'],\n",
       " ['caribbean', 'central american'],\n",
       " ['caribbean', 'central american'],\n",
       " ['caribbean', 'central american'],\n",
       " ['caribbean', 'central american'],\n",
       " ['caribbean', 'central american'],\n",
       " ['south american', 'latin american'],\n",
       " ['south american', 'latin american'],\n",
       " ['south american', 'latin american'],\n",
       " ['south american', 'latin american'],\n",
       " ['south american', 'latin american'],\n",
       " ['south american', 'latin american'],\n",
       " ['south american', 'latin american'],\n",
       " ['south american', 'latin american'],\n",
       " ['south american', 'latin american'],\n",
       " ['south american', 'latin american']]"
      ]
     },
     "execution_count": 26,
     "metadata": {},
     "output_type": "execute_result"
    }
   ],
   "source": [
    "cuisines"
   ]
  },
  {
   "cell_type": "code",
   "execution_count": null,
   "metadata": {},
   "outputs": [],
   "source": []
  },
  {
   "cell_type": "code",
   "execution_count": null,
   "metadata": {},
   "outputs": [],
   "source": []
  },
  {
   "cell_type": "code",
   "execution_count": null,
   "metadata": {},
   "outputs": [],
   "source": []
  },
  {
   "cell_type": "code",
   "execution_count": null,
   "metadata": {},
   "outputs": [],
   "source": []
  },
  {
   "cell_type": "code",
   "execution_count": null,
   "metadata": {},
   "outputs": [],
   "source": []
  },
  {
   "cell_type": "code",
   "execution_count": null,
   "metadata": {},
   "outputs": [],
   "source": []
  },
  {
   "cell_type": "code",
   "execution_count": null,
   "metadata": {},
   "outputs": [],
   "source": []
  },
  {
   "cell_type": "code",
   "execution_count": null,
   "metadata": {},
   "outputs": [],
   "source": []
  },
  {
   "cell_type": "code",
   "execution_count": null,
   "metadata": {},
   "outputs": [],
   "source": []
  },
  {
   "cell_type": "code",
   "execution_count": null,
   "metadata": {},
   "outputs": [],
   "source": []
  },
  {
   "cell_type": "code",
   "execution_count": null,
   "metadata": {},
   "outputs": [],
   "source": []
  },
  {
   "cell_type": "code",
   "execution_count": null,
   "metadata": {},
   "outputs": [],
   "source": []
  },
  {
   "cell_type": "code",
   "execution_count": null,
   "metadata": {},
   "outputs": [],
   "source": []
  },
  {
   "cell_type": "code",
   "execution_count": null,
   "metadata": {},
   "outputs": [],
   "source": []
  },
  {
   "cell_type": "code",
   "execution_count": null,
   "metadata": {},
   "outputs": [],
   "source": []
  },
  {
   "cell_type": "code",
   "execution_count": null,
   "metadata": {},
   "outputs": [],
   "source": []
  },
  {
   "cell_type": "code",
   "execution_count": null,
   "metadata": {},
   "outputs": [],
   "source": []
  },
  {
   "cell_type": "code",
   "execution_count": null,
   "metadata": {},
   "outputs": [],
   "source": []
  }
 ],
 "metadata": {
  "kernelspec": {
   "display_name": "Python 3",
   "language": "python",
   "name": "python3"
  },
  "language_info": {
   "codemirror_mode": {
    "name": "ipython",
    "version": 3
   },
   "file_extension": ".py",
   "mimetype": "text/x-python",
   "name": "python",
   "nbconvert_exporter": "python",
   "pygments_lexer": "ipython3",
   "version": "3.6.8"
  }
 },
 "nbformat": 4,
 "nbformat_minor": 2
}
