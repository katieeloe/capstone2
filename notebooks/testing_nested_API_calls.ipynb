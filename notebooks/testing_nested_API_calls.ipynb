{
 "cells": [
  {
   "cell_type": "code",
   "execution_count": 1,
   "metadata": {},
   "outputs": [],
   "source": [
    "import requests # Python package to send get/post requests to a webpage\n",
    "import os       # Python package to interface with the operating system\n",
    "from operator import itemgetter"
   ]
  },
  {
   "cell_type": "code",
   "execution_count": 2,
   "metadata": {},
   "outputs": [],
   "source": [
    "API_KEY = os.environ['Spoontacular_API_KEY']"
   ]
  },
  {
   "cell_type": "code",
   "execution_count": 13,
   "metadata": {},
   "outputs": [],
   "source": [
    "subset_cuisines = ['african', 'japanese', 'korean', 'vietnamese', 'thai', 'indian',  'french', 'italian', 'mexican', 'spanish', 'jewish', 'cajun', 'greek', 'german', 'caribbean']"
   ]
  },
  {
   "cell_type": "code",
   "execution_count": 3,
   "metadata": {},
   "outputs": [],
   "source": [
    "endpoint = 'https://spoonacular-recipe-food-nutrition-v1.p.rapidapi.com/recipes/searchComplex?cuisine=african&type=main+course&ranking=2&limitLicense=false&offset=0&number=20'\n",
    "payload = {'X-RapidAPI-Key': API_KEY}"
   ]
  },
  {
   "cell_type": "code",
   "execution_count": 4,
   "metadata": {},
   "outputs": [],
   "source": [
    "response = requests.get(endpoint, headers=payload)"
   ]
  },
  {
   "cell_type": "code",
   "execution_count": 7,
   "metadata": {},
   "outputs": [],
   "source": [
    "json_response = response.json()"
   ]
  },
  {
   "cell_type": "code",
   "execution_count": 19,
   "metadata": {},
   "outputs": [],
   "source": []
  },
  {
   "cell_type": "code",
   "execution_count": 21,
   "metadata": {},
   "outputs": [
    {
     "data": {
      "text/plain": [
       "6"
      ]
     },
     "execution_count": 21,
     "metadata": {},
     "output_type": "execute_result"
    }
   ],
   "source": []
  },
  {
   "cell_type": "code",
   "execution_count": 20,
   "metadata": {},
   "outputs": [
    {
     "data": {
      "text/plain": [
       "[{'id': 697214,\n",
       "  'title': 'Grilled Salmon with North African Flavors',\n",
       "  'image': 'https://spoonacular.com/recipeImages/697214-312x231.jpg',\n",
       "  'imageType': 'jpg'},\n",
       " {'id': 575018,\n",
       "  'title': 'Quick and Easy African Pork Peanut Stew, by Pork Passion Pursuit Winner Devon Delaney (Sponsored)',\n",
       "  'image': 'https://spoonacular.com/recipeImages/575018-312x231.jpg',\n",
       "  'imageType': 'jpg'},\n",
       " {'id': 245461,\n",
       "  'title': 'African Chicken Peanut Stew',\n",
       "  'image': 'https://spoonacular.com/recipeImages/245461-312x231.jpg',\n",
       "  'imageType': 'jpg'},\n",
       " {'id': 728651,\n",
       "  'title': 'Jollof Rice with Chicken from Ghana',\n",
       "  'image': 'https://spoonacular.com/recipeImages/728651-312x231.jpg',\n",
       "  'imageType': 'jpg'},\n",
       " {'id': 695717,\n",
       "  'title': 'North African Orange & Lamb Kebabs',\n",
       "  'image': 'https://spoonacular.com/recipeImages/695717-312x231.jpg',\n",
       "  'imageType': 'jpg'},\n",
       " {'id': 215803,\n",
       "  'title': 'North African chicken tagine',\n",
       "  'image': 'https://spoonacular.com/recipeImages/215803-312x231.jpg',\n",
       "  'imageType': 'jpg'},\n",
       " {'id': 563530,\n",
       "  'title': 'African Groundnut Chicken and Sweet Potato Stew',\n",
       "  'image': 'https://spoonacular.com/recipeImages/563530-312x231.jpg',\n",
       "  'imageType': 'jpg'},\n",
       " {'id': 506917,\n",
       "  'title': 'South African Piri-Piri Chicken',\n",
       "  'image': 'https://spoonacular.com/recipeImages/506917-312x231.jpg',\n",
       "  'imageType': 'jpg'},\n",
       " {'id': 794274,\n",
       "  'title': 'Bunny Chow',\n",
       "  'image': 'https://spoonacular.com/recipeImages/794274-312x231.jpg',\n",
       "  'imageType': 'jpg'},\n",
       " {'id': 97206,\n",
       "  'title': 'Bo-Kaap Cape Malay Kerrie - South African Cape Malay Curry',\n",
       "  'image': 'https://spoonacular.com/recipeImages/97206-312x231.jpg',\n",
       "  'imageType': 'jpg'},\n",
       " {'id': 779804,\n",
       "  'title': 'African Sweet Potato & Chicken Stew',\n",
       "  'image': 'https://spoonacular.com/recipeImages/779804-312x231.jpg',\n",
       "  'imageType': 'jpg'},\n",
       " {'id': 89180,\n",
       "  'title': 'African Adobo-Rubbed Tuna Steaks',\n",
       "  'image': 'https://spoonacular.com/recipeImages/89180-312x231.jpg',\n",
       "  'imageType': 'jpg'},\n",
       " {'id': 704612,\n",
       "  'title': 'Kuku Paku (African Coconut Chicken Curry)',\n",
       "  'image': 'https://spoonacular.com/recipeImages/704612-312x231.jpg',\n",
       "  'imageType': 'jpg'},\n",
       " {'id': 975759,\n",
       "  'title': 'African Chicken Peanut Stew',\n",
       "  'image': 'https://spoonacular.com/recipeImages/975759-312x231.jpg',\n",
       "  'imageType': 'jpg'},\n",
       " {'id': 86847,\n",
       "  'title': 'Grilled Salmon With North African Flavors',\n",
       "  'image': 'https://spoonacular.com/recipeImages/86847-312x231.jpg',\n",
       "  'imageType': 'jpg'},\n",
       " {'id': 217284,\n",
       "  'title': 'Spicy African chicken stew',\n",
       "  'image': 'https://spoonacular.com/recipeImages/217284-312x231.jpg',\n",
       "  'imageType': 'jpg'},\n",
       " {'id': 107296,\n",
       "  'title': 'African Piri - Piri Kabobs',\n",
       "  'image': 'https://spoonacular.com/recipeImages/107296-312x231.jpg',\n",
       "  'imageType': 'jpg'},\n",
       " {'id': 412225,\n",
       "  'title': 'West African Chicken Stew',\n",
       "  'image': 'https://spoonacular.com/recipeImages/412225-312x231.jpg',\n",
       "  'imageType': 'jpg'},\n",
       " {'id': 665840,\n",
       "  'title': 'Piri Piri Chicken with Slaw',\n",
       "  'image': 'https://spoonacular.com/recipeImages/665840-312x231.jpg',\n",
       "  'imageType': 'jpg'},\n",
       " {'id': 219615,\n",
       "  'title': 'Bobotie',\n",
       "  'image': 'https://spoonacular.com/recipeImages/219615-312x231.jpg',\n",
       "  'imageType': 'jpg'}]"
      ]
     },
     "execution_count": 20,
     "metadata": {},
     "output_type": "execute_result"
    }
   ],
   "source": [
    "results = json_response['results']\n",
    "results"
   ]
  },
  {
   "cell_type": "code",
   "execution_count": 22,
   "metadata": {},
   "outputs": [],
   "source": [
    "test_results = []"
   ]
  },
  {
   "cell_type": "code",
   "execution_count": 24,
   "metadata": {},
   "outputs": [],
   "source": [
    "for recipe in results:\n",
    "    test_results.append(recipe)"
   ]
  },
  {
   "cell_type": "code",
   "execution_count": null,
   "metadata": {},
   "outputs": [],
   "source": []
  },
  {
   "cell_type": "code",
   "execution_count": 15,
   "metadata": {},
   "outputs": [],
   "source": [
    "recipe_ids = []"
   ]
  },
  {
   "cell_type": "code",
   "execution_count": 16,
   "metadata": {},
   "outputs": [],
   "source": [
    "for recipe in results:\n",
    "    recipe_ids.append(recipe['id'])"
   ]
  },
  {
   "cell_type": "code",
   "execution_count": 17,
   "metadata": {},
   "outputs": [
    {
     "data": {
      "text/plain": [
       "[697214,\n",
       " 575018,\n",
       " 245461,\n",
       " 728651,\n",
       " 695717,\n",
       " 215803,\n",
       " 563530,\n",
       " 506917,\n",
       " 794274,\n",
       " 97206,\n",
       " 779804,\n",
       " 89180,\n",
       " 704612,\n",
       " 975759,\n",
       " 86847,\n",
       " 217284,\n",
       " 107296,\n",
       " 412225,\n",
       " 665840,\n",
       " 219615]"
      ]
     },
     "execution_count": 17,
     "metadata": {},
     "output_type": "execute_result"
    }
   ],
   "source": [
    "recipe_ids"
   ]
  },
  {
   "cell_type": "code",
   "execution_count": null,
   "metadata": {},
   "outputs": [],
   "source": []
  },
  {
   "cell_type": "code",
   "execution_count": null,
   "metadata": {},
   "outputs": [],
   "source": []
  },
  {
   "cell_type": "code",
   "execution_count": null,
   "metadata": {},
   "outputs": [],
   "source": []
  },
  {
   "cell_type": "code",
   "execution_count": null,
   "metadata": {},
   "outputs": [],
   "source": []
  },
  {
   "cell_type": "code",
   "execution_count": null,
   "metadata": {},
   "outputs": [],
   "source": []
  },
  {
   "cell_type": "code",
   "execution_count": null,
   "metadata": {},
   "outputs": [],
   "source": []
  },
  {
   "cell_type": "code",
   "execution_count": null,
   "metadata": {},
   "outputs": [],
   "source": []
  }
 ],
 "metadata": {
  "kernelspec": {
   "display_name": "Python 3",
   "language": "python",
   "name": "python3"
  },
  "language_info": {
   "codemirror_mode": {
    "name": "ipython",
    "version": 3
   },
   "file_extension": ".py",
   "mimetype": "text/x-python",
   "name": "python",
   "nbconvert_exporter": "python",
   "pygments_lexer": "ipython3",
   "version": "3.6.8"
  }
 },
 "nbformat": 4,
 "nbformat_minor": 2
}
